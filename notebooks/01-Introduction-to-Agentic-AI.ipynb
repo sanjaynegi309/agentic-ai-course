{
 "cells": [
  {
   "cell_type": "markdown",
   "metadata": {},
   "source": [
    "# Chapter 1: Introduction to Agentic AI\n",
    "\n",
    "## From Zero to Hero in the World of AI Agents\n",
    "\n",
    "[![Open In Colab](https://colab.research.google.com/assets/colab-badge.svg)](https://colab.research.google.com/github/sanjaynegi309/agentic-ai-course/blob/main/notebooks/01-Introduction-to-Agentic-AI.ipynb)\n",
    "\n",
    "Welcome to the first chapter of your journey into Agentic AI! In this notebook, we'll start from the very beginning, demystifying what an AI agent is and building your very first one. Let's get started!"
   ]
  },
  {
   "cell_type": "markdown",
   "metadata": {},
   "source": [
    "## 🧠 What is an AI Agent?\n",
    "\n",
    "Think of an AI agent as a smart assistant that can understand a goal, make a plan, and use tools to achieve it. Unlike a traditional program that follows a fixed set of instructions, an agent can reason, adapt, and act autonomously.\n",
    "\n",
    "Key properties of an AI agent include:\n",
    "- **Autonomy:** Agents can operate on their own without direct human supervision.\n",
    "- **Reactivity:** They can perceive their environment and respond to changes.\n",
    "- **Pro-activeness:** They can take initiative to achieve their goals.\n",
    "\n",
    "At its core, an agent is powered by a **Large Language Model (LLM)**, which acts as its brain."
   ]
  },
  {
   "cell_type": "markdown",
   "metadata": {},
   "source": [
    "## 🛠️ The Core Components of an Agent\n",
    "\n",
    "An agent is typically composed of three main parts:\n",
    "\n",
    "1.  **The Brain (LLM):** This is the language model (like Google's Gemini) that powers the agent's reasoning and decision-making.\n",
    "2.  **Tools:** These are functions or APIs that the agent can use to interact with the outside world. Examples include a web search tool, a calculator, or a code interpreter.\n",
    "3.  **Memory:** This allows the agent to remember past interactions and context, enabling more coherent and intelligent conversations.\n",
    "\n",
    "```\n",
    "      +-----------+\n",
    "      |   User    |\n",
    "      +-----------+\n",
    "            |\n",
    "      (Goal/Prompt)\n",
    "            |\n",
    "      +-----------+\n",
    "      |   Agent   |\n",
    "      +-----------+\n",
    "      /      |      \\\n",
    " (Brain)   (Tools)  (Memory)\n",
    "   |         |         |\n",
    "+-------+ +--------+ +--------+\n",
    "|  LLM  | | Search | | History|\n",
    "+-------+ +--------+ +--------+\n",
    "```"
   ]
  },
  {
   "cell_type": "markdown",
   "metadata": {},
   "source": [
    "## 🚀 Hands-On Demo: Your First AI Agent\n",
    "\n",
    "Enough theory! Let's build a simple agent that can answer a question by searching the web. We'll use LangChain for this first example because it provides a great high-level abstraction for agent creation."
   ]
  },
  {
   "cell_type": "code",
   "execution_count": null,
   "metadata": {},
   "outputs": [],
   "source": [
    "# Step 1: Install necessary libraries\n",
    "!pip install langchain langchain_google_genai python-dotenv duckduckgo-search"
   ]
  },
  {
   "cell_type": "code",
   "execution_count": null,
   "metadata": {},
   "outputs": [],
   "source": [
    "# Step 2: Setup API Keys\n",
    "\n",
    "import os\n",
    "from dotenv import load_dotenv\n",
    "\n",
    "# Try to load from .env file, otherwise use Colab's user data\n",
    "if load_dotenv():\n",
    "    print(\"Loaded API keys from .env file\")\n",
    "    gemini_api_key = os.getenv(\"GEMINI_API_KEY\")\n",
    "else:\n",
    "    # Alternative for Google Colab\n",
    "    try:\n",
    "        from google.colab import userdata\n",
    "        print(\"Loading API key from Colab userdata\")\n",
    "        gemini_api_key = userdata.get('GEMINI_API_KEY')\n",
    "        os.environ['GEMINI_API_KEY'] = gemini_api_key\n",
    "    except ImportError:\n",
    "        print(\"Not in a Colab environment and .env file not found. Please ensure GEMINI_API_KEY is set.\")\n",
    "        gemini_api_key = None"
   ]
  },
  {
   "cell_type": "code",
   "execution_count": null,
   "metadata": {},
   "outputs": [],
   "source": [
    "# Step 3: Create the Agent\n",
    "\n",
    "from langchain_google_genai import ChatGoogleGenerativeAI\n",
    "from langchain.agents import load_tools, initialize_agent, AgentType\n",
    "\n",
    "# Initialize the LLM (the 'brain' of the agent)\n",
    "llm = ChatGoogleGenerativeAI(model=\"gemini-pro\", temperature=0)\n",
    "\n",
    "# Load the tools the agent can use\n",
    "tools = load_tools([\"ddg-search\"], llm=llm)\n",
    "\n",
    "# Initialize the agent\n",
    "agent = initialize_agent(\n",
    "    tools,\n",
    "    llm,\n",
    "    agent=AgentType.ZERO_SHOT_REACT_DESCRIPTION,\n",
    "    verbose=True # Set to True to see the agent's thought process\n",
    ")\n",
    "\n",
    "# Let's test it!\n",
    "question = \"Who is the current CEO of OpenAI?\"\n",
    "response = agent.run(question)\n",
    "print(f\"\\nFinal Answer: {response}\")"
   ]
  },
  {
   "cell_type": "markdown",
   "metadata": {},
   "source": [
    "## 🤔 How It Works: A Step-by-Step Explanation\n",
    "\n",
    "1.  **`ChatGoogleGenerativeAI`**: We first create an instance of the Gemini Pro model via LangChain's wrapper. This is the core reasoning engine.\n",
    "2.  **`load_tools`**: We load the DuckDuckGo search tool (`ddg-search`). This gives the agent the ability to browse the web.\n",
    "3.  **`initialize_agent`**: This is where the magic happens. We combine the LLM and the tools into an agent. \n",
    "    - **`AgentType.ZERO_SHOT_REACT_DESCRIPTION`**: This is a specific type of agent that decides which tool to use based on the tool's description. The \"REACT\" part stands for \"Reasoning and Acting,\" which is the process you saw in the output when `verbose=True`.\n",
    "\n",
    "When you run the agent, it:\n",
    "- **Thinks:** \"I need to find the current CEO of OpenAI. I should use a search tool for this.\"\n",
    "- **Acts:** It calls the DuckDuckGo search tool with a query like \"current CEO of OpenAI\".\n",
    "- **Observes:** It gets the search results.\n",
    "- **Thinks:** \"The search results say Sam Altman is the CEO. I have enough information to answer the user's question.\"\n",
    "- **Responds:** It gives you the final answer."
   ]
  },
  {
   "cell_type": "markdown",
   "metadata": {},
   "source": [
    "## 🎉 Congratulations!\n",
    "\n",
    "You've just built your first AI agent! It's simple, but it demonstrates the core concepts of reasoning, tool use, and autonomous operation.\n",
    "\n",
    "In the next chapter, we'll explore how the concepts you might already know from Object-Oriented Programming (OOP) map to Agentic AI design. This will provide a solid mental model as we move on to more complex systems.\n",
    "\n",
    "See you in the next chapter!"
   ]
  }
 ],
 "metadata": {
  "kernelspec": {
   "display_name": "Python 3",
   "language": "python",
   "name": "python3"
  },
  "language_info": {
   "codemirror_mode": {
    "name": "ipython",
    "version": 3
   },
   "file_extension": ".py",
   "mimetype": "text/x-python",
   "name": "python",
   "nbconvert_exporter": "python",
   "pygments_lexer": "ipython3",
   "version": "3.10.9"
  }
 },
 "nbformat": 4,
 "nbformat_minor": 4
}

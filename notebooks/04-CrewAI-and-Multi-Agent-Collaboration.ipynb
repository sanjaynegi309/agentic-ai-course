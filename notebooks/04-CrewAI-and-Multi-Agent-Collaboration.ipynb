{
 "cells": [
  {
   "cell_type": "markdown",
   "metadata": {},
   "source": [
    "# Chapter 4: CrewAI & Multi-Agent Collaboration\n",
    "\n",
    "## Teamwork Makes the Dream Work\n",
    "\n",
    "[![Open In Colab](https://colab.research.google.com/assets/colab-badge.svg)](https://colab.research.google.com/github/sanjaynegi309/agentic-ai-course/blob/main/notebooks/04-CrewAI-and-Multi-Agent-Collaboration.ipynb)\n",
    "\n",
    "So far, we've built single agents. They're powerful, but some problems are too complex for one agent to handle alone. In this chapter, you'll learn how to assemble and manage a team of AI agents that collaborate to achieve a common goal using **CrewAI**."
   ]
  },
  {
   "cell_type": "markdown",
   "metadata": {},
   "source": [
    "## 🤔 Why Multi-Agent Systems?\n",
    "\n",
    "Think about a real-world software development team. You don't have one person who does everything. You have specialists:\n",
    "\n",
    "- **Researchers** who analyze the problem.\n",
    "- **Developers** who write the code.\n",
    "- **Testers** who ensure quality.\n",
    "\n",
    "Multi-agent systems apply the same principle of **division of labor** to AI. By creating a team of specialized agents, you can solve more complex problems more effectively."
   ]
  },
  {
   "cell_type": "markdown",
   "metadata": {},
   "source": [
    "## 🚀 Introducing CrewAI: Your AI Workforce\n",
    "\n",
    "**CrewAI** is a framework specifically designed for orchestrating role-playing, autonomous AI agents. It helps you assemble a `Crew` of `Agents` and assign them `Tasks` to perform in a structured way. Its high-level, intuitive API makes it a perfect starting point for multi-agent development."
   ]
  },
  {
   "cell_type": "code",
   "execution_count": null,
   "metadata": {},
   "outputs": [],
   "source": [
    "# Step 1: Install and Setup\n",
    "!pip install crewai langchain-google-genai python-dotenv duckduckgo-search\n",
    "\n",
    "import os\n",
    "from dotenv import load_dotenv\n",
    "if not load_dotenv():\n",
    "    try:\n",
    "        from google.colab import userdata\n",
    "        os.environ['GEMINI_API_KEY'] = userdata.get('GEMINI_API_KEY')\n",
    "    except ImportError:\n",
    "        print(\"Could not load API keys.\")"
   ]
  },
  {
   "cell_type": "markdown",
   "metadata": {},
   "source": [
    "## 🛠️ Hands-On: Building a Research and Writing Crew\n",
    "\n",
    "Let's build a crew to research a topic and write a brief blog post about it. Our crew will have two agents:\n",
    "\n",
    "1.  **Researcher:** An agent that scours the web for information.\n",
    "2.  **Writer:** An agent that takes the research findings and crafts a compelling blog post."
   ]
  },
  {
   "cell_type": "code",
   "execution_count": null,
   "metadata": {},
   "outputs": [],
   "source": [
    "# Step 2: Define Tools, Agents, and Tasks\n",
    "from crewai import Agent, Task, Crew, Process\n",
    "from langchain_community.tools import DuckDuckGoSearchRun\n",
    "\n",
    "# Tool for the researcher\n",
    "search_tool = DuckDuckGoSearchRun()\n",
    "\n",
    "# Agent 1: The Researcher\n",
    "researcher = Agent(\n",
    "    role='Senior AI Researcher',\n",
    "    goal='Find and synthesize the latest advancements in AI agents.',\n",
    "    backstory='You are a world-renowned researcher at a top AI lab, known for your ability to find signal in the noise.',\n",
    "    tools=[search_tool],\n",
    "    verbose=True,\n",
    "    allow_delegation=False\n",
    ")\n",
    "\n",
    "# Agent 2: The Writer\n",
    "writer = Agent(\n",
    "    role='Expert Tech Content Strategist',\n",
    "    goal='Craft compelling and easy-to-understand blog posts about complex AI topics.',\n",
    "    backstory='You are a famous tech blogger who can simplify any technical topic for a broad audience.',\n",
    "    verbose=True,\n",
    "    allow_delegation=False\n",
    ")\n",
    "\n",
    "# Task 1: Research\n",
    "research_task = Task(\n",
    "    description='Investigate the latest trends in multi-agent AI systems. Identify key players, technologies, and potential future impacts.',\n",
    "    expected_output='A comprehensive 3-paragraph summary of the latest trends.',\n",
    "    agent=researcher\n",
    ")\n",
    "\n",
    "# Task 2: Writing\n",
    "writing_task = Task(\n",
    "    description='Based on the research summary, write an engaging blog post titled \"The Rise of AI Agents: What You Need to Know\".',\n",
    "    expected_output='A 500-word blog post with a clear introduction, body, and conclusion.',\n",
    "    agent=writer\n",
    ")"
   ]
  },
  {
   "cell_type": "code",
   "execution_count": null,
   "metadata": {},
   "outputs": [],
   "source": [
    "# Step 3: Assemble and Run the Crew\n",
    "\n",
    "# Create the crew\n",
    "research_crew = Crew(\n",
    "    agents=[researcher, writer],\n",
    "    tasks=[research_task, writing_task],\n",
    "    process=Process.sequential # Tasks will be executed one after another\n",
    ")\n",
    "\n",
    "# Kick off the crew's work\n",
    "result = research_crew.kickoff()\n",
    "\n",
    "print(\"\\n\\n--- Crew Execution Result ---\")\n",
    "print(result)"
   ]
  },
  {
   "cell_type": "markdown",
   "metadata": {},
   "source": [
    "## 🤔 How the Crew Collaborates\n",
    "\n",
    "When you kicked off the crew, here's what happened:\n",
    "\n",
    "1.  **Task 1 (Research):** The `researcher` agent executed its task, using the DuckDuckGo search tool to find information.\n",
    "2.  **Context Passing:** CrewAI automatically took the result of the `research_task` (the `expected_output`) and passed it into the context for the next task.\n",
    "3.  **Task 2 (Writing):** The `writer` agent received the research summary and used it as the basis for its writing task. It didn't need to search the web itself; it trusted its teammate's work.\n",
    "\n",
    "This seamless passing of context is what makes collaboration possible."
   ]
  },
  {
   "cell_type": "markdown",
   "metadata": {},
   "source": [
    "## ✅ Beyond Sequential\n",
    "\n",
    "CrewAI also supports a `hierarchical` process, where a manager agent can delegate tasks to subordinate agents. This allows for more complex, dynamic workflows, but the sequential process is the perfect starting point for understanding multi-agent systems.\n",
    "\n",
    "In the next chapter, we'll look at **LangGraph**, a powerful library that gives you even more fine-grained control over how agents interact, allowing you to build workflows with loops, branches, and state. It's the next step in building truly sophisticated agentic systems."
   ]
  }
 ],
 "metadata": {
  "kernelspec": {
   "display_name": "Python 3",
   "language": "python",
   "name": "python3"
  },
  "language_info": {
   "codemirror_mode": {
    "name": "ipython",
    "version": 3
   },
   "file_extension": ".py",
   "mimetype": "text/x-python",
   "name": "python",
   "nbconvert_exporter": "python",
   "pygments_lexer": "ipython3",
   "version": "3.10.9"
  }
 },
 "nbformat": 4,
 "nbformat_minor": 4
}

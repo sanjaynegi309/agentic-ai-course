{
 "cells": [
  {
   "cell_type": "markdown",
   "metadata": {},
   "source": [
    "# Chapter 2: From OOP to Agentic AI\n",
    "\n",
    "## Translating Your Developer Skills into the World of Agents\n",
    "\n",
    "[![Open In Colab](https://colab.research.google.com/assets/colab-badge.svg)](https://colab.research.google.com/github/sanjaynegi309/agentic-ai-course/blob/main/notebooks/02-OOP-to-Agentic-Mapping.ipynb)\n",
    "\n",
    "Welcome back! If you have a background in Object-Oriented Programming (OOP), you're in for a treat. In this chapter, we'll bridge the gap between the concepts you already know and the new world of agentic design. This mental model will be your superpower as we build more complex systems."
   ]
  },
  {
   "cell_type": "markdown",
   "metadata": {},
   "source": [
    "## 🧑‍💻 The OOP You Already Know: A Quick Refresher\n",
    "\n",
    "In OOP, we model the world using **objects**. An object is an instance of a **class**, which acts as a blueprint. Let's consider a simple `Developer` class in Python."
   ]
  },
  {
   "cell_type": "code",
   "execution_count": null,
   "metadata": {},
   "outputs": [],
   "source": [
    "class Developer:\n",
    "    def __init__(self, name, language, skills):\n",
    "        # Attributes: Data or state of the object\n",
    "        self.name = name\n",
    "        self.language = language\n",
    "        self.skills = skills\n",
    "\n",
    "    # Methods: Functions that the object can perform\n",
    "    def write_code(self, feature):\n",
    "        print(f\"{self.name} is writing code for '{feature}' in {self.language}.\")\n",
    "        return f\"Code for {feature} completed.\"\n",
    "\n",
    "    def debug(self, issue):\n",
    "        print(f\"{self.name} is debugging: '{issue}'.\")\n",
    "        return f\"Issue '{issue}' resolved.\"\n",
    "\n",
    "# Creating an object (an instance of the class)\n",
    "dev1 = Developer(\"Jules\", \"Python\", [\"Agentic AI\", \"FastAPI\", \"Docker\"])\n",
    "\n",
    "# Calling methods on the object\n",
    "dev1.write_code(\"User Authentication\")\n",
    "dev1.debug(\"Infinite loop in the data processing module\")"
   ]
  },
  {
   "cell_type": "markdown",
   "metadata": {},
   "source": [
    "## 🤖 Mapping OOP to Agentic AI\n",
    "\n",
    "The transition to agentic thinking is more intuitive than you might think. Here's a direct mapping:\n",
    "\n",
    "| OOP Concept | Agentic AI Equivalent | Description |\n",
    "|---|---|---|\n",
    "| **Class** | **Agent Template / Role** | A blueprint for creating an agent with a specific purpose, skills, and backstory. |\n",
    "| **Object** | **Agent Instance** | A concrete, running instance of an agent, ready to perform tasks. |\n",
    "| **Attributes** | **State / Memory** | The agent's knowledge, context, and history. This is its internal data. |\n",
    "| **Methods** | **Tools** | The functions or APIs that an agent can call to interact with the world and perform actions. |\n"
   ]
  },
  {
   "cell_type": "markdown",
   "metadata": {},
   "source": [
    "## 🚀 Hands-On: Building an 'Agentic' Developer\n",
    "\n",
    "Now, let's re-create our `Developer` concept as an AI agent. We'll use **CrewAI** for this because its role-based design makes the mapping to OOP very clear."
   ]
  },
  {
   "cell_type": "code",
   "execution_count": null,
   "metadata": {},
   "outputs": [],
   "source": [
    "# Step 1: Install necessary libraries\n",
    "!pip install crewai langchain-google-genai python-dotenv"
   ]
  },
  {
   "cell_type": "code",
   "execution_count": null,
   "metadata": {},
   "outputs": [],
   "source": [
    "# Step 2: Setup API Keys (same as Chapter 1)\n",
    "import os\n",
    "from dotenv import load_dotenv\n",
    "if not load_dotenv():\n",
    "    try:\n",
    "        from google.colab import userdata\n",
    "        os.environ['GEMINI_API_KEY'] = userdata.get('GEMINI_API_KEY')\n",
    "    except ImportError:\n",
    "        print(\"Could not load API keys.\")"
   ]
  },
  {
   "cell_type": "code",
   "execution_count": null,
   "metadata": {},
   "outputs": [],
   "source": [
    "# Step 3: Define Agent Components (Tools, Agent, Task)\n",
    "from crewai import Agent, Task, Crew, Process\n",
    "from crewai_tools import BaseTool\n",
    "\n",
    "# This is like a 'Method' in our OOP class\n",
    "class CodeWriterTool(BaseTool):\n",
    "    name: str = \"Code Writer Tool\"\n",
    "    description: str = \"A tool to write python code for a given feature.\"\n",
    "\n",
    "    def _run(self, feature: str) -> str:\n",
    "        return f'\\n```python\\n# Feature: {feature}\\nprint(\"Hello, World!\")\\n```'\n",
    "\n",
    "code_writer_tool = CodeWriterTool()\n",
    "\n",
    "# This is like the 'Class' definition\n",
    "developer_agent = Agent(\n",
    "    role='Senior Python Developer',\n",
    "    goal='Write clean, efficient, and well-documented Python code.',\n",
    "    backstory='You are an expert developer with 10 years of experience, specializing in building robust and scalable applications.',\n",
    "    tools=[code_writer_tool],\n",
    "    verbose=True,\n",
    "    allow_delegation=False\n",
    ")\n",
    "\n",
    "# This is like calling a method on an object\n",
    "coding_task = Task(\n",
    "    description='Develop a new feature for user authentication.',\n",
    "    expected_output='Complete Python code for the user authentication feature.',\n",
    "    agent=developer_agent\n",
    ")\n",
    "\n",
    "# This is like creating the 'Object' and running it\n",
    "project_crew = Crew(\n",
    "    agents=[developer_agent],\n",
    "    tasks=[coding_task],\n",
    "    process=Process.sequential\n",
    ")\n",
    "\n",
    "result = project_crew.kickoff()\n",
    "print(\"\\n\\n--- Crew Execution Result ---\")\n",
    "print(result)"
   ]
  },
  {
   "cell_type": "markdown",
   "metadata": {},
   "source": [
    "## 🤔 Dissecting the Agentic Code\n",
    "\n",
    "Let's break down the parallels:\n",
    "\n",
    "- **`Agent(...)`**: This is our **Class** blueprint. We define the `role`, `goal`, and `backstory`, which are like class-level properties that define what any agent created from this blueprint will be like.\n",
    "- **`CodeWriterTool(...)`**: This is a **Method**. It's a specific capability that we attach to our agent blueprint.\n",
    "- **`project_crew.kickoff()`**: This is where the **Object** (the agent instance) is actually created and put to work. The `Crew` manages the lifecycle of the agent instance.\n",
    "- **Memory/State**: CrewAI automatically manages the agent's memory (its **Attributes** or state). The agent remembers the task it was given and the results of its actions. We'll dive deeper into memory in a later chapter."
   ]
  },
  {
   "cell_type": "markdown",
   "metadata": {},
   "source": [
    "## ✅ Why This Matters\n",
    "\n",
    "By mapping OOP to agentic design, you can leverage your existing skills to:\n",
    "\n",
    "- **Design Better Agents:** Think about agents as objects with clear responsibilities and capabilities.\n",
    "- **Build Modular Systems:** Create reusable agent templates (like classes) that can be instantiated in different scenarios (like objects).\n",
    "- **Scale Complexity:** Just as you compose complex applications from smaller objects, you can build sophisticated multi-agent systems from individual, specialized agents.\n",
    "\n",
    "In the next chapter, we'll get our hands dirty with the foundational framework that powers many agentic systems: **LangChain**. We'll explore its core components in detail."
   ]
  }
 ],
 "metadata": {
  "kernelspec": {
   "display_name": "Python 3",
   "language": "python",
   "name": "python3"
  },
  "language_info": {
   "codemirror_mode": {
    "name": "ipython",
    "version": 3
   },
   "file_extension": ".py",
   "mimetype": "text/x-python",
   "name": "python",
   "nbconvert_exporter": "python",
   "pygments_lexer": "ipython3",
   "version": "3.10.9"
  }
 },
 "nbformat": 4,
 "nbformat_minor": 4
}
